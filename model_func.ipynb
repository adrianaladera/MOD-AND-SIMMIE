{
 "cells": [
  {
   "cell_type": "code",
   "execution_count": 7,
   "id": "33c4daa2",
   "metadata": {},
   "outputs": [
    {
     "data": {
      "text/plain": [
       "norm_col (generic function with 1 method)"
      ]
     },
     "execution_count": 7,
     "metadata": {},
     "output_type": "execute_result"
    }
   ],
   "source": [
    "using LinearAlgebra\n",
    "using Printf\n",
    "\n",
    "global const µ = 3.986e14  # m^3/s^2\n",
    "\n",
    "# Helper function to take the column-wise norms of a matrix\n",
    "norm_col(A) = [norm(A[:,i]) for i=1:size(A,2)]"
   ]
  },
  {
   "cell_type": "code",
   "execution_count": 60,
   "id": "9137c652",
   "metadata": {},
   "outputs": [
    {
     "data": {
      "text/plain": [
       "feval (generic function with 1 method)"
      ]
     },
     "execution_count": 60,
     "metadata": {},
     "output_type": "execute_result"
    }
   ],
   "source": [
    "function feval(x,p,u)\n",
    "    # Function eval with input x formatted as:\n",
    "    # r_1x, r_1y, r_1z, v_1x, v_1y, v_1z, r_2x, r_2y, ...\n",
    "    # 3-vec of position followed by 3-vec of velocity for each node\n",
    "    \n",
    "    # Optionally modify the exponential decay constant (d) and force amplitude (k) here\n",
    "    d = 1\n",
    "    k = 1\n",
    "    \n",
    "    N = length(x);\n",
    "    f = zeros(N);\n",
    "    \n",
    "    # Derivative of position is velocity\n",
    "    f[1:6:end] = x[4:6:end]  # x axis\n",
    "    f[2:6:end] = x[5:6:end]  # y axis\n",
    "    f[3:6:end] = x[6:6:end]  # z axis\n",
    "    \n",
    "    # Calculate -µ/|r|^3 for each node\n",
    "    # Reshape x into 3 x N/3 and take every other col -> get just positions, not velocities\n",
    "    dists = norm_col(reshape(x, 3, floor(Int, N/3))[:,1:2:end])\n",
    "    grav_terms = -µ * dists.^-3\n",
    "    \n",
    "    # Set gravitational acceleration as r * (-µ/|r|^3)\n",
    "    f[4:6:end] = x[1:6:end].*grav_terms\n",
    "    f[5:6:end] = x[2:6:end].*grav_terms\n",
    "    f[6:6:end] = x[3:6:end].*grav_terms\n",
    "    \n",
    "    for i in 1:floor(Int, N/6)  # For each node,\n",
    "        for j in 1:floor(Int, N/6)  # Loop over each other node\n",
    "           if i != j  # And add the contributions from the interactions between nodes\n",
    "                # Will update later with better function vectorization =) Julia is new\n",
    "                # (This also calculates each force twice, unnecessarily...)\n",
    "                idx_i = (i-1)*6\n",
    "                idx_j = (j-1)*6\n",
    "                # Vector of position from node i to note j\n",
    "                r_ij = x[1+idx_i:3+idx_i] - x[1+idx_j:3+idx_j]\n",
    "                dist = norm(r_ij)\n",
    "                f[4+idx_i:6+idx_i] += k*exp(-d*dist) * r_ij/dist   \n",
    "            end\n",
    "        end\n",
    "    end\n",
    "    return f\n",
    "end"
   ]
  },
  {
   "cell_type": "code",
   "execution_count": 61,
   "id": "b7c3f253",
   "metadata": {},
   "outputs": [
    {
     "data": {
      "text/plain": [
       "12-element Vector{Float64}:\n",
       "  4.0\n",
       "  5.0\n",
       "  6.0\n",
       " -7.609309359020883e12\n",
       " -1.5218618718041766e13\n",
       " -2.282792807706265e13\n",
       " 10.0\n",
       " 11.0\n",
       " 12.0\n",
       " -1.0326014712243367e12\n",
       " -1.1801159671135276e12\n",
       " -1.3276304630027185e12"
      ]
     },
     "execution_count": 61,
     "metadata": {},
     "output_type": "execute_result"
    }
   ],
   "source": [
    "# Func test\n",
    "x = feval([1,2,3,4,5,6,7,8,9,10,11,12],0,0)"
   ]
  },
  {
   "cell_type": "code",
   "execution_count": null,
   "id": "d8174269",
   "metadata": {},
   "outputs": [],
   "source": []
  }
 ],
 "metadata": {
  "kernelspec": {
   "display_name": "Julia 1.8.1",
   "language": "julia",
   "name": "julia-1.8"
  },
  "language_info": {
   "file_extension": ".jl",
   "mimetype": "application/julia",
   "name": "julia",
   "version": "1.8.1"
  }
 },
 "nbformat": 4,
 "nbformat_minor": 5
}

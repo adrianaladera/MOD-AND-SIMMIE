{
 "cells": [
  {
   "cell_type": "code",
   "execution_count": 19,
   "id": "85ed6292",
   "metadata": {},
   "outputs": [
    {
     "data": {
      "text/plain": [
       "f (generic function with 1 method)"
      ]
     },
     "execution_count": 19,
     "metadata": {},
     "output_type": "execute_result"
    }
   ],
   "source": [
    "using LinearAlgebra, Distributions, Random, Rotations\n",
    "using Printf\n",
    "using Plots\n",
    "\n",
    "global const µ = 3.986e14  # m^3/s^2\n",
    "\n",
    "include(\"eval_f.jl\")\n",
    "include(\"forward_euler.jl\")\n",
    "include(\"trapezoidal.jl\")\n",
    "include(\"generate_random_initial_state.jl\")\n",
    "\n",
    "function f(x)\n",
    "    feval(x,0,0)\n",
    "end"
   ]
  },
  {
   "cell_type": "code",
   "execution_count": null,
   "id": "398447ae",
   "metadata": {},
   "outputs": [],
   "source": [
    "mean_a = 8e8\n",
    "stddev_a = 0.0\n",
    "mean_e = 0.01\n",
    "stddev_e = 0.0\n",
    "\n",
    "N = 10\n",
    "\n",
    "x0 = generate_random_initial_state(N, mean_a, stddev_a, mean_e, stddev_e)"
   ]
  },
  {
   "cell_type": "code",
   "execution_count": null,
   "id": "21fe8819",
   "metadata": {},
   "outputs": [],
   "source": [
    "t0 = 0\n",
    "ti = 6e5\n",
    "num_steps = 10000\n",
    "\n",
    "xs = euler(f, t0, ti, x0, num_steps)"
   ]
  },
  {
   "cell_type": "code",
   "execution_count": 22,
   "id": "177cf8bf",
   "metadata": {},
   "outputs": [
    {
     "ename": "LoadError",
     "evalue": "UndefVarError: plot not defined",
     "output_type": "error",
     "traceback": [
      "UndefVarError: plot not defined",
      "",
      "Stacktrace:",
      " [1] top-level scope",
      "   @ In[22]:1",
      " [2] eval",
      "   @ ./boot.jl:368 [inlined]",
      " [3] include_string(mapexpr::typeof(REPL.softscope), mod::Module, code::String, filename::String)",
      "   @ Base ./loading.jl:1428"
     ]
    }
   ],
   "source": [
    "plot(xs[:,1], xs[:,2], xs[:,3])"
   ]
  },
  {
   "cell_type": "code",
   "execution_count": 4,
   "id": "46bcdbe8",
   "metadata": {},
   "outputs": [
    {
     "data": {
      "application/vnd.webio.node+json": {
       "children": [],
       "instanceArgs": {
        "namespace": "html",
        "tag": "div"
       },
       "nodeType": "DOM",
       "props": {},
       "type": "node"
      },
      "text/html": [
       "<div style=\"padding: 1em; background-color: #f8d6da; border: 1px solid #f5c6cb; font-weight: bold;\">\n",
       "<p>The WebIO Jupyter extension was not detected. See the\n",
       "<a href=\"https://juliagizmos.github.io/WebIO.jl/latest/providers/ijulia/\" target=\"_blank\">\n",
       "    WebIO Jupyter integration documentation\n",
       "</a>\n",
       "for more information.\n",
       "</div>\n"
      ],
      "text/plain": [
       "WebIO._IJuliaInit()"
      ]
     },
     "metadata": {
      "application/vnd.webio.node+json": {
       "kernelId": "1b69d85c-7d2f-4f4d-b0a9-425ffee9b860"
      }
     },
     "output_type": "display_data"
    }
   ],
   "source": [
    "using PlotlyJS"
   ]
  },
  {
   "cell_type": "code",
   "execution_count": 6,
   "id": "37caf968",
   "metadata": {},
   "outputs": [],
   "source": [
    "# this layout doesnt seem to work\n",
    "layout = Layout(\n",
    "             scene=(\n",
    "                 aspectratio=(x=1,y=1,z=1)\n",
    "         ))\n",
    "\n",
    "trace = PlotlyJS.scatter(x=xs[:,1], y=xs[:,2], z=xs[:,3],mode=\"lines\",type=\"scatter3d\")\n",
    "\n",
    "p = PlotlyJS.plot(trace,layout)\n",
    "\n",
    "open(\"./example.html\", \"w\") do io\n",
    "    PlotlyBase.to_html(io, p.plot)\n",
    "end"
   ]
  },
  {
   "cell_type": "code",
   "execution_count": 5,
   "id": "75ea1525",
   "metadata": {},
   "outputs": [
    {
     "data": {
      "text/plain": [
       "visualizeNetwork (generic function with 1 method)"
      ]
     },
     "execution_count": 5,
     "metadata": {},
     "output_type": "execute_result"
    }
   ],
   "source": [
    "function visualizeNetwork(xs)\n",
    "    N = floor(Int, length(xs[1,:])/6)\n",
    "    \n",
    "    trace = [PlotlyJS.scatter(x=xs[:,1+j*6], y=xs[:,2+j*6], z=xs[:,3+j*6],mode=\"lines\",type=\"scatter3d\") for j in 0:N-1]\n",
    "    p = PlotlyJS.plot(trace)\n",
    "    open(\"./example.html\", \"w\") do io\n",
    "        PlotlyBase.to_html(io, p.plot)\n",
    "    end\n",
    "end"
   ]
  },
  {
   "cell_type": "code",
   "execution_count": 25,
   "id": "b571c62d",
   "metadata": {},
   "outputs": [],
   "source": [
    "visualizeNetwork(xs)"
   ]
  },
  {
   "cell_type": "code",
   "execution_count": null,
   "id": "abe04f4f",
   "metadata": {},
   "outputs": [],
   "source": []
  }
 ],
 "metadata": {
  "@webio": {
   "lastCommId": "cf2b18721cae40b3813f34468afb3a8b",
   "lastKernelId": "1b69d85c-7d2f-4f4d-b0a9-425ffee9b860"
  },
  "kernelspec": {
   "display_name": "Julia 1.8.1",
   "language": "julia",
   "name": "julia-1.8"
  },
  "language_info": {
   "file_extension": ".jl",
   "mimetype": "application/julia",
   "name": "julia",
   "version": "1.8.1"
  }
 },
 "nbformat": 4,
 "nbformat_minor": 5
}

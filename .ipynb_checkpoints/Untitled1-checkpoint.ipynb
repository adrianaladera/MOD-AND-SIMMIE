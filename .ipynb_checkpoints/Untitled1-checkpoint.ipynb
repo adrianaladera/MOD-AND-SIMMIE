{
 "cells": [
  {
   "cell_type": "code",
   "execution_count": 4,
   "metadata": {},
   "outputs": [
    {
     "data": {
      "text/plain": [
       "trapezoidal (generic function with 1 method)"
      ]
     },
     "execution_count": 4,
     "metadata": {},
     "output_type": "execute_result"
    }
   ],
   "source": [
    "using LinearAlgebra\n",
    "using Printf\n",
    "using Polynomials\n",
    "using Plots\n",
    "using SparseArrays\n",
    "using ToeplitzMatrices\n",
    "using FiniteDifferences\n",
    "\n",
    "global const µ = 3.986e14  # m^3/s^2\n",
    "\n",
    "include(\"eval_f.jl\")\n",
    "include(\"forward_euler.jl\")\n",
    "include(\"trapezoidal.jl\")"
   ]
  },
  {
   "cell_type": "markdown",
   "metadata": {},
   "source": [
    "### Make reduced order variables"
   ]
  },
  {
   "cell_type": "code",
   "execution_count": 5,
   "metadata": {},
   "outputs": [
    {
     "data": {
      "text/plain": [
       "make_reduced_order (generic function with 1 method)"
      ]
     },
     "execution_count": 5,
     "metadata": {},
     "output_type": "execute_result"
    }
   ],
   "source": [
    "function make_reduced_order(A, b, c, q)\n",
    "    lambdas = eigvals(A);\n",
    "    vectors = eigvecs(A);\n",
    "    vectors\n",
    "    Vq = zeros(N, q);\n",
    "#     n = size(vectors)\n",
    "#     print(n)\n",
    "    for i in 0:q-1\n",
    "        print(q-i)\n",
    "        Vq[:,i+1] = vectors[:,q-i]\n",
    "    end    \n",
    "    A_hat =  Vq' * A * Vq;\n",
    "    b_hat = Vq' * b;\n",
    "    c_hat = Vq' * c;\n",
    "#     a = size(Vq)\n",
    "    return A_hat, b_hat, c_hat, Vq\n",
    "end"
   ]
  },
  {
   "cell_type": "markdown",
   "metadata": {},
   "source": [
    "### transient reference function"
   ]
  },
  {
   "cell_type": "code",
   "execution_count": 15,
   "metadata": {},
   "outputs": [
    {
     "data": {
      "text/plain": [
       "transient_ref (generic function with 2 methods)"
      ]
     },
     "execution_count": 15,
     "metadata": {},
     "output_type": "execute_result"
    }
   ],
   "source": [
    "function transient_ref(eval_f,x0,t_start,t_stop,n_time)\n",
    "\n",
    "    ref_conf = zeros(length(n_time));\n",
    "    (golden_x, golden_t) = euler(eval_f, t_start, t_stop, x0, n_time)\n",
    "\n",
    "    X = Float64[];\n",
    "#     time = time + dt;\n",
    "    (temp, t_ref) = euler(eval_f, t_start, t_stop, x0, n_time)\n",
    "    # add trapezoidal time integration here\n",
    "    dims  = size(temp);\n",
    "    X = cat(X, temp[:,dims[2]], dims=(2,2));\n",
    "    for n in -1:-.5:-4 \n",
    "        dt  = 10^n;\n",
    "        (temp, t_ref) = euler(eval_f, t_start, t_stop, x0, dt)\n",
    "        # add trapezoidal time integration here\n",
    "        dims  = size(temp2);\n",
    "        X = cat(X, temp(dims[2]), dims=(2,2));\n",
    "        r = max(abs(X[:,i] - X[:,i-1]))\n",
    "        i = i+1;\n",
    "        ref_conf[i-1] = r;\n",
    "    end\n",
    "    \n",
    "    return X, ref_conf, t_ref\n",
    "end"
   ]
  },
  {
   "cell_type": "code",
   "execution_count": 3,
   "metadata": {},
   "outputs": [
    {
     "name": "stdout",
     "output_type": "stream",
     "text": [
      "-1.0-1.5-2.0-2.5-3.0-3.5-4.0"
     ]
    }
   ],
   "source": [
    "for n in -1:-.5:-4 \n",
    "    print(n)\n"
   ]
  },
  {
   "cell_type": "markdown",
   "metadata": {},
   "source": [
    "### testing function with for Euler"
   ]
  },
  {
   "cell_type": "code",
   "execution_count": 7,
   "metadata": {},
   "outputs": [
    {
     "data": {
      "text/plain": [
       "1001×6 Matrix{Float64}:\n",
       " 7.0e6          0.0        0.0     0.0     7546.05  0.0\n",
       " 7.0e6      43982.3        0.0   -47.4132  7546.05  0.0\n",
       " 6.99972e6  87964.6        0.0   -94.8236  7545.75  0.0\n",
       " 6.99917e6      1.31945e5  0.0  -142.229   7545.16  0.0\n",
       " 6.99834e6      1.75922e5  0.0  -189.629   7544.26  0.0\n",
       " 6.99724e6      2.19894e5  0.0  -237.019   7543.07  0.0\n",
       " 6.99586e6      2.63859e5  0.0  -284.4     7541.58  0.0\n",
       " 6.9942e6       3.07815e5  0.0  -331.768   7539.8   0.0\n",
       " 6.99226e6      3.51761e5  0.0  -379.122   7537.71  0.0\n",
       " 6.99005e6      3.95695e5  0.0  -426.461   7535.33  0.0\n",
       " 6.98757e6      4.39615e5  0.0  -473.781   7532.65  0.0\n",
       " 6.98481e6      4.83519e5  0.0  -521.082   7529.67  0.0\n",
       " 6.98177e6      5.27406e5  0.0  -568.362   7526.4   0.0\n",
       " ⋮                                                  ⋮\n",
       " 6.93992e6     -2.94087e6  0.0  2826.86    6684.98  0.0\n",
       " 6.95639e6     -2.9019e6   0.0  2789.21    6700.94  0.0\n",
       " 6.97265e6     -2.86285e6  0.0  2751.47    6716.68  0.0\n",
       " 6.98869e6     -2.8237e6   0.0  2713.64    6732.21  0.0\n",
       " 7.0045e6      -2.78446e6  0.0  2675.73    6747.53  0.0\n",
       " 7.0201e6      -2.74513e6  0.0  2637.73    6762.64  0.0\n",
       " 7.03547e6     -2.70572e6  0.0  2599.65    6777.53  0.0\n",
       " 7.05062e6     -2.66621e6  0.0  2561.48    6792.21  0.0\n",
       " 7.06555e6     -2.62662e6  0.0  2523.24    6806.67  0.0\n",
       " 7.08026e6     -2.58695e6  0.0  2484.92    6820.92  0.0\n",
       " 7.09474e6     -2.5472e6   0.0  2446.51    6834.95  0.0\n",
       " 7.109e6       -2.50736e6  0.0  2408.03    6848.76  0.0"
      ]
     },
     "execution_count": 7,
     "metadata": {},
     "output_type": "execute_result"
    }
   ],
   "source": [
    "function f(x)\n",
    "    feval(x,0,0)\n",
    "end\n",
    "\n",
    "radius = 7e6  # m\n",
    "velocity = sqrt(µ/radius)\n",
    "\n",
    "x0 = [radius, 0, 0, 0, velocity, 0]\n",
    "t0 = 0\n",
    "ti = 2*pi*radius^1.5/µ^0.5  # Should result in 1 orbit\n",
    "num_steps = 1000\n",
    "xs = euler(f, t0, ti, x0, num_steps)"
   ]
  },
  {
   "cell_type": "markdown",
   "metadata": {},
   "source": [
    "### trapezoidal method"
   ]
  },
  {
   "cell_type": "code",
   "execution_count": 8,
   "metadata": {},
   "outputs": [
    {
     "data": {
      "text/plain": [
       "1001×6 Matrix{Float64}:\n",
       " 7.0e6            0.0        0.0     0.0       7546.05  0.0\n",
       " 6.99986e6    43981.9        0.0   -47.4128    7545.9   0.0\n",
       " 6.99945e6    87962.0        0.0   -94.8236    7545.45  0.0\n",
       " 6.99876e6        1.31939e5  0.0  -142.231     7544.71  0.0\n",
       " 6.99779e6        1.7591e5   0.0  -189.632     7543.67  0.0\n",
       " 6.99655e6        2.19875e5  0.0  -237.026     7542.33  0.0\n",
       " 6.99503e6        2.6383e5   0.0  -284.411     7540.69  0.0\n",
       " 6.99323e6        3.07776e5  0.0  -331.784     7538.75  0.0\n",
       " 6.99116e6        3.51709e5  0.0  -379.145     7536.52  0.0\n",
       " 6.98881e6        3.95628e5  0.0  -426.49      7533.99  0.0\n",
       " 6.98619e6        4.39532e5  0.0  -473.819     7531.16  0.0\n",
       " 6.98329e6        4.83419e5  0.0  -521.129     7528.03  0.0\n",
       " 6.98011e6        5.27286e5  0.0  -568.418     7524.61  0.0\n",
       " ⋮                                                      ⋮\n",
       " 6.98328e6       -4.83563e5  0.0   521.284     7528.02  0.0\n",
       " 6.98618e6       -4.39677e5  0.0   473.974     7531.15  0.0\n",
       " 6.9888e6        -3.95773e5  0.0   426.646     7533.98  0.0\n",
       " 6.99115e6       -3.51854e5  0.0   379.301     7536.51  0.0\n",
       " 6.99322e6       -3.0792e5   0.0   331.94      7538.74  0.0\n",
       " 6.99502e6  -263975.0        0.0   284.567     7540.68  0.0\n",
       " 6.99654e6       -2.20019e5  0.0   237.182     7542.32  0.0\n",
       " 6.99779e6       -1.76055e5  0.0   189.788     7543.66  0.0\n",
       " 6.99875e6       -1.32083e5  0.0   142.387     7544.71  0.0\n",
       " 6.99945e6   -88106.7        0.0    94.9796    7545.45  0.0\n",
       " 6.99986e6   -44126.6        0.0    47.5687    7545.9   0.0\n",
       " 7.0e6         -144.695      0.0     0.155982  7546.05  0.0"
      ]
     },
     "execution_count": 8,
     "metadata": {},
     "output_type": "execute_result"
    }
   ],
   "source": [
    "radius = 7e6  # m\n",
    "velocity = sqrt(µ/radius)\n",
    "\n",
    "\n",
    "x0 = [radius, 0, 0, 0, velocity, 0]\n",
    "t0 = 0\n",
    "ti = 2*pi*radius^1.5/µ^0.5  # Should result in 1 orbit\n",
    "num_steps = 1000\n",
    "xs = trapezoidal(f, t0, ti, x0, num_steps)"
   ]
  },
  {
   "cell_type": "code",
   "execution_count": 16,
   "metadata": {},
   "outputs": [
    {
     "ename": "LoadError",
     "evalue": "BoundsError: attempt to access Tuple{} at index [2]",
     "output_type": "error",
     "traceback": [
      "BoundsError: attempt to access Tuple{} at index [2]",
      "",
      "Stacktrace:",
      " [1] getindex(t::Tuple, i::Int64)",
      "   @ Base ./tuple.jl:29",
      " [2] transient_ref(eval_f::Function, x0::Vector{Float64}, t_start::Int64, t_stop::Float64, n_time::Int64)",
      "   @ Main ./In[15]:11",
      " [3] top-level scope",
      "   @ In[16]:1",
      " [4] eval",
      "   @ ./boot.jl:368 [inlined]",
      " [5] include_string(mapexpr::typeof(REPL.softscope), mod::Module, code::String, filename::String)",
      "   @ Base ./loading.jl:1428"
     ]
    }
   ],
   "source": [
    "(xs, ref_conf, t_ref) = transient_ref(f,x0,t0,ti,num_steps)"
   ]
  },
  {
   "cell_type": "code",
   "execution_count": null,
   "metadata": {},
   "outputs": [],
   "source": []
  }
 ],
 "metadata": {
  "kernelspec": {
   "display_name": "Julia 1.8.1",
   "language": "julia",
   "name": "julia-1.8"
  },
  "language_info": {
   "file_extension": ".jl",
   "mimetype": "application/julia",
   "name": "julia",
   "version": "1.8.1"
  }
 },
 "nbformat": 4,
 "nbformat_minor": 4
}

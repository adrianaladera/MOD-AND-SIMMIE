{
 "cells": [
  {
   "cell_type": "code",
   "execution_count": 1,
   "id": "85ed6292",
   "metadata": {},
   "outputs": [
    {
     "data": {
      "text/plain": [
       "f (generic function with 1 method)"
      ]
     },
     "execution_count": 1,
     "metadata": {},
     "output_type": "execute_result"
    }
   ],
   "source": [
    "using LinearAlgebra, Distributions, Random, Rotations\n",
    "using Printf\n",
    "using Plots\n",
    "\n",
    "global const µ = 3.986e14  # m^3/s^2\n",
    "\n",
    "include(\"eval_f.jl\")\n",
    "include(\"forward_euler.jl\")\n",
    "include(\"trapezoidal.jl\")\n",
    "include(\"generate_random_initial_state.jl\")\n",
    "\n",
    "function f(x)\n",
    "    feval(x,0,0)\n",
    "end"
   ]
  },
  {
   "cell_type": "code",
   "execution_count": 14,
   "id": "398447ae",
   "metadata": {},
   "outputs": [
    {
     "data": {
      "text/plain": [
       "600-element Vector{Float64}:\n",
       "     3.0801978586065596e8\n",
       "     3.1890346678848344e8\n",
       "    -1.2329970533254106e8\n",
       "  -720.1279348297611\n",
       "  -638.4300695455828\n",
       "  -677.7748573502655\n",
       "    -8.458517543847929e7\n",
       "     1.803352166106873e8\n",
       "     1.485327227113951e8\n",
       "  1785.0928354046075\n",
       "   220.58980791777128\n",
       "  -265.70893757215276\n",
       "     2.4904212207718664e8\n",
       "     ⋮\n",
       "     6.400374633280535e8\n",
       "    -2.772917050020427e8\n",
       "    -1.792460672757728e7\n",
       "  -104.61397959313886\n",
       "  -709.8460187373975\n",
       " -1898.9569371759858\n",
       "    -1.8100440323148453e8\n",
       "    -2.4888504151519176e7\n",
       "     5.929124357590118e7\n",
       "  -867.4809872584414\n",
       "    29.19150820771105\n",
       "  -328.9001074114506"
      ]
     },
     "execution_count": 14,
     "metadata": {},
     "output_type": "execute_result"
    }
   ],
   "source": [
    "mean_a = 8e8\n",
    "stddev_a = 0.0\n",
    "mean_e = 0.01\n",
    "stddev_e = 0.0\n",
    "\n",
    "N = 100\n",
    "\n",
    "x0 = generate_random_initial_state(N, mean_a, stddev_a, mean_e, stddev_e)"
   ]
  },
  {
   "cell_type": "code",
   "execution_count": 15,
   "id": "21fe8819",
   "metadata": {},
   "outputs": [
    {
     "data": {
      "text/plain": [
       "10001×600 Matrix{Float64}:\n",
       "  3.0802e8    3.18903e8  -1.233e8    -720.128  …  -867.481  29.1915  -328.9\n",
       "  3.07977e8   3.18865e8  -1.2334e8   -720.204     -866.87   29.2755  -329.1\n",
       "  3.07933e8   3.18827e8  -1.23381e8  -720.279     -866.26   29.3594  -329.3\n",
       "  3.0789e8    3.18789e8  -1.23422e8  -720.355     -865.649  29.4433  -329.5\n",
       "  3.07847e8   3.1875e8   -1.23462e8  -720.43      -865.039  29.5271  -329.699\n",
       "  3.07804e8   3.18712e8  -1.23503e8  -720.506  …  -864.429  29.6108  -329.898\n",
       "  3.0776e8    3.18674e8  -1.23544e8  -720.582     -863.82   29.6945  -330.098\n",
       "  3.07717e8   3.18635e8  -1.23584e8  -720.657     -863.21   29.7781  -330.296\n",
       "  3.07674e8   3.18597e8  -1.23625e8  -720.733     -862.601  29.8616  -330.495\n",
       "  3.07631e8   3.18559e8  -1.23666e8  -720.809     -861.992  29.9451  -330.694\n",
       "  3.07588e8   3.1852e8   -1.23706e8  -720.884  …  -861.384  30.0286  -330.892\n",
       "  3.07544e8   3.18482e8  -1.23747e8  -720.96      -860.775  30.1119  -331.09\n",
       "  3.07501e8   3.18443e8  -1.23788e8  -721.036     -860.167  30.1952  -331.288\n",
       "  ⋮                                            ⋱                     \n",
       " -2.43911e8  -2.39202e8  -2.25195e7  -481.045     -422.901  37.9525  -258.289\n",
       " -2.43939e8  -2.39239e8  -2.24489e7  -480.899  …  -422.705  37.9734  -258.328\n",
       " -2.43968e8  -2.39275e8  -2.23784e7  -480.754     -422.509  37.9942  -258.367\n",
       " -2.43997e8  -2.39312e8  -2.23078e7  -480.609     -422.313  38.0151  -258.406\n",
       " -2.44026e8  -2.39348e8  -2.22372e7  -480.464     -422.118  38.0359  -258.445\n",
       " -2.44055e8  -2.39385e8  -2.21666e7  -480.318     -421.922  38.0567  -258.484\n",
       " -2.44084e8  -2.39421e8  -2.20961e7  -480.173  …  -421.726  38.0775  -258.523\n",
       " -2.44112e8  -2.39457e8  -2.20255e7  -480.028     -421.53   38.0984  -258.562\n",
       " -2.44141e8  -2.39494e8  -2.19549e7  -479.883     -421.334  38.1192  -258.601\n",
       " -2.4417e8   -2.3953e8   -2.18843e7  -479.738     -421.138  38.14    -258.64\n",
       " -2.44199e8  -2.39566e8  -2.18137e7  -479.593     -420.942  38.1608  -258.679\n",
       " -2.44228e8  -2.39603e8  -2.17432e7  -479.448  …  -420.747  38.1816  -258.718"
      ]
     },
     "execution_count": 15,
     "metadata": {},
     "output_type": "execute_result"
    }
   ],
   "source": [
    "t0 = 0\n",
    "ti = 6e5\n",
    "num_steps = 10000\n",
    "\n",
    "xs = euler(f, t0, ti, x0, num_steps)"
   ]
  },
  {
   "cell_type": "code",
   "execution_count": 22,
   "id": "177cf8bf",
   "metadata": {},
   "outputs": [
    {
     "ename": "LoadError",
     "evalue": "UndefVarError: plot not defined",
     "output_type": "error",
     "traceback": [
      "UndefVarError: plot not defined",
      "",
      "Stacktrace:",
      " [1] top-level scope",
      "   @ In[22]:1",
      " [2] eval",
      "   @ ./boot.jl:368 [inlined]",
      " [3] include_string(mapexpr::typeof(REPL.softscope), mod::Module, code::String, filename::String)",
      "   @ Base ./loading.jl:1428"
     ]
    }
   ],
   "source": [
    "plot(xs[:,1], xs[:,2], xs[:,3])"
   ]
  },
  {
   "cell_type": "code",
   "execution_count": 4,
   "id": "46bcdbe8",
   "metadata": {},
   "outputs": [
    {
     "data": {
      "application/vnd.webio.node+json": {
       "children": [],
       "instanceArgs": {
        "namespace": "html",
        "tag": "div"
       },
       "nodeType": "DOM",
       "props": {},
       "type": "node"
      },
      "text/html": [
       "<div style=\"padding: 1em; background-color: #f8d6da; border: 1px solid #f5c6cb; font-weight: bold;\">\n",
       "<p>The WebIO Jupyter extension was not detected. See the\n",
       "<a href=\"https://juliagizmos.github.io/WebIO.jl/latest/providers/ijulia/\" target=\"_blank\">\n",
       "    WebIO Jupyter integration documentation\n",
       "</a>\n",
       "for more information.\n",
       "</div>\n"
      ],
      "text/plain": [
       "WebIO._IJuliaInit()"
      ]
     },
     "metadata": {
      "application/vnd.webio.node+json": {
       "kernelId": "1b69d85c-7d2f-4f4d-b0a9-425ffee9b860"
      }
     },
     "output_type": "display_data"
    }
   ],
   "source": [
    "using PlotlyJS"
   ]
  },
  {
   "cell_type": "code",
   "execution_count": 6,
   "id": "37caf968",
   "metadata": {},
   "outputs": [],
   "source": [
    "# this layout doesnt seem to work\n",
    "layout = Layout(\n",
    "             scene=(\n",
    "                 aspectratio=(x=1,y=1,z=1)\n",
    "         ))\n",
    "\n",
    "trace = PlotlyJS.scatter(x=xs[:,1], y=xs[:,2], z=xs[:,3],mode=\"lines\",type=\"scatter3d\")\n",
    "\n",
    "p = PlotlyJS.plot(trace,layout)\n",
    "\n",
    "open(\"./example.html\", \"w\") do io\n",
    "    PlotlyBase.to_html(io, p.plot)\n",
    "end"
   ]
  },
  {
   "cell_type": "code",
   "execution_count": 5,
   "id": "75ea1525",
   "metadata": {},
   "outputs": [
    {
     "data": {
      "text/plain": [
       "visualizeNetwork (generic function with 1 method)"
      ]
     },
     "execution_count": 5,
     "metadata": {},
     "output_type": "execute_result"
    }
   ],
   "source": [
    "function visualizeNetwork(xs)\n",
    "    N = floor(Int, length(xs[1,:])/6)\n",
    "    \n",
    "    trace = [PlotlyJS.scatter(x=xs[:,1+j*6], y=xs[:,2+j*6], z=xs[:,3+j*6],mode=\"lines\",type=\"scatter3d\") for j in 0:N-1]\n",
    "    p = PlotlyJS.plot(trace)\n",
    "    open(\"./example.html\", \"w\") do io\n",
    "        PlotlyBase.to_html(io, p.plot)\n",
    "    end\n",
    "end"
   ]
  },
  {
   "cell_type": "code",
   "execution_count": 16,
   "id": "5b92892a",
   "metadata": {},
   "outputs": [],
   "source": [
    "visualizeNetwork(xs)"
   ]
  },
  {
   "cell_type": "code",
   "execution_count": null,
   "id": "6c050e50",
   "metadata": {},
   "outputs": [],
   "source": []
  }
 ],
 "metadata": {
  "@webio": {
   "lastCommId": "e14d798c22884854886524c604dd59a9",
   "lastKernelId": "1b69d85c-7d2f-4f4d-b0a9-425ffee9b860"
  },
  "kernelspec": {
   "display_name": "Julia 1.8.1",
   "language": "julia",
   "name": "julia-1.8"
  },
  "language_info": {
   "file_extension": ".jl",
   "mimetype": "application/julia",
   "name": "julia",
   "version": "1.8.1"
  }
 },
 "nbformat": 4,
 "nbformat_minor": 5
}

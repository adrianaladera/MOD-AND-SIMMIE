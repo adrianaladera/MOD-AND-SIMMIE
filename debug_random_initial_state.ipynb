{
 "cells": [
  {
   "cell_type": "code",
   "execution_count": 2,
   "id": "85ed6292",
   "metadata": {},
   "outputs": [],
   "source": [
    "using LinearAlgebra, Distributions, Random, Rotations, ForwardDiff, SparseArrays\n",
    "using Printf\n",
    "# using Plots\n",
    "\n",
    "global const µ = 3.986e14  # m^3/s^2\n",
    "\n",
    "includet(\"eval_f.jl\")\n",
    "includet(\"forward_euler.jl\")\n",
    "includet(\"trap.jl\")\n",
    "includet(\"generate_random_initial_state.jl\")\n",
    "includet(\"visualizeNetwork.jl\")\n",
    "\n",
    "f(x, p) = feval(x, p, 0)\n",
    "f(x) = f(x, 0)\n"
   ]
  },
  {
   "cell_type": "code",
   "execution_count": 3,
   "id": "398447ae",
   "metadata": {},
   "outputs": [],
   "source": [
    "mean_a = 8e6\n",
    "stddev_a = 1e2\n",
    "mean_e = 0.01\n",
    "stddev_e = 0.1\n",
    "\n",
    "N = 100\n",
    "\n",
    "x0 = generate_random_initial_state(N, mean_a, stddev_a, mean_e, stddev_e, true);"
   ]
  },
  {
   "cell_type": "code",
   "execution_count": 7,
   "id": "21fe8819",
   "metadata": {},
   "outputs": [
    {
     "data": {
      "text/plain": [
       "10001×120 Matrix{Float64}:\n",
       " -7.47218e6  -4.61526e5       -5.17481e5  …   3748.82  -5638.55  -1059.66\n",
       " -7.47155e6  -4.68452e5       -5.20314e5      3744.7   -5641.49  -1062.64\n",
       " -7.47091e6  -4.75379e5       -5.23146e5      3740.57  -5644.43  -1065.63\n",
       " -7.47027e6  -4.82305e5  -525978.0            3736.44  -5647.37  -1068.61\n",
       " -7.46961e6  -4.8923e5        -5.28809e5      3732.31  -5650.3   -1071.59\n",
       " -7.46895e6  -4.96155e5       -5.3164e5   …   3728.17  -5653.23  -1074.57\n",
       " -7.46828e6  -5.0308e5        -5.34471e5      3724.03  -5656.15  -1077.55\n",
       " -7.46761e6  -5.10004e5       -5.37301e5      3719.88  -5659.07  -1080.53\n",
       " -7.46692e6  -5.16928e5       -5.4013e5       3715.74  -5661.99  -1083.51\n",
       " -7.46624e6  -5.23851e5  -542959.0            3711.58  -5664.91  -1086.49\n",
       "  ⋮                                       ⋱                      \n",
       "  7.28517e6  -4.17385e6       -1.40497e6     -6603.42   3627.75   -995.139\n",
       "  7.28885e6  -4.16876e6       -1.40271e6     -6600.39   3633.1    -991.501\n",
       "  7.29253e6  -4.16366e6       -1.40044e6     -6597.36   3638.45   -987.863\n",
       "  7.2962e6   -4.15857e6       -1.39818e6  …  -6594.32   3643.79   -984.224\n",
       "  7.29987e6  -4.15347e6       -1.39591e6     -6591.27   3649.13   -980.586\n",
       "  7.30353e6  -4.14837e6       -1.39364e6     -6588.22   3654.46   -976.948\n",
       "  7.30719e6  -4.14326e6       -1.39138e6     -6585.16   3659.79   -973.309\n",
       "  7.31084e6  -4.13816e6       -1.38911e6     -6582.1    3665.11   -969.671\n",
       "  7.31449e6  -4.13305e6       -1.38684e6  …  -6579.03   3670.43   -966.032"
      ]
     },
     "metadata": {},
     "output_type": "display_data"
    }
   ],
   "source": [
    "t0 = 0\n",
    "ti = 1e4  # one orbit ~ 5e4 sec\n",
    "num_steps = 10000\n",
    "\n",
    "xs = euler(f, t0, ti, x0, num_steps);\n",
    "# xs = trapezoid(f, t0, ti, x0, 0, 80)\n",
    "#plot(xs[:,1], xs[:,2], xs[:,3])"
   ]
  },
  {
   "cell_type": "code",
   "execution_count": 9,
   "id": "5b92892a",
   "metadata": {},
   "outputs": [],
   "source": [
    "visualizeNetwork(xs,\"example.html\")"
   ]
  },
  {
   "cell_type": "code",
   "execution_count": 6,
   "id": "25540fef",
   "metadata": {},
   "outputs": [],
   "source": []
  }
 ],
 "metadata": {
  "@webio": {
   "lastCommId": "a2d82c9ced6d42778f3863a6998db4e4",
   "lastKernelId": "b1930e1b-cde7-41fe-8324-e5b7553770aa"
  },
  "kernelspec": {
   "display_name": "Julia 1.8.2",
   "language": "julia",
   "name": "julia-1.8"
  },
  "language_info": {
   "file_extension": ".jl",
   "mimetype": "application/julia",
   "name": "julia",
   "version": "1.8.2"
  }
 },
 "nbformat": 4,
 "nbformat_minor": 5
}

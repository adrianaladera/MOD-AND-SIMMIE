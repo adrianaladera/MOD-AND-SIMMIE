{
 "cells": [
  {
   "cell_type": "code",
   "execution_count": 1,
   "id": "85ed6292",
   "metadata": {},
   "outputs": [
    {
     "data": {
      "application/vnd.webio.node+json": {
       "children": [],
       "instanceArgs": {
        "namespace": "html",
        "tag": "div"
       },
       "nodeType": "DOM",
       "props": {},
       "type": "node"
      },
      "text/html": [
       "<div style=\"padding: 1em; background-color: #f8d6da; border: 1px solid #f5c6cb; font-weight: bold;\">\n",
       "<p>The WebIO Jupyter extension was not detected. See the\n",
       "<a href=\"https://juliagizmos.github.io/WebIO.jl/latest/providers/ijulia/\" target=\"_blank\">\n",
       "    WebIO Jupyter integration documentation\n",
       "</a>\n",
       "for more information.\n",
       "</div>\n"
      ],
      "text/plain": [
       "WebIO._IJuliaInit()"
      ]
     },
     "metadata": {
      "application/vnd.webio.node+json": {
       "kernelId": "b1930e1b-cde7-41fe-8324-e5b7553770aa"
      }
     },
     "output_type": "display_data"
    },
    {
     "data": {
      "text/plain": [
       "f (generic function with 1 method)"
      ]
     },
     "execution_count": 1,
     "metadata": {},
     "output_type": "execute_result"
    }
   ],
   "source": [
    "using LinearAlgebra, Distributions, Random, Rotations\n",
    "using Printf\n",
    "using Plots\n",
    "\n",
    "global const µ = 3.986e14  # m^3/s^2\n",
    "\n",
    "include(\"eval_f.jl\")\n",
    "include(\"forward_euler.jl\")\n",
    "include(\"trapezoidal.jl\")\n",
    "include(\"generate_random_initial_state.jl\")\n",
    "include(\"visualizeNetwork.jl\")\n",
    "\n",
    "function f(x)\n",
    "    feval(x,0,0)\n",
    "end"
   ]
  },
  {
   "cell_type": "code",
   "execution_count": 16,
   "id": "398447ae",
   "metadata": {},
   "outputs": [],
   "source": [
    "mean_a = 8e6\n",
    "stddev_a = 1e2\n",
    "mean_e = 0.01\n",
    "stddev_e = 0.1\n",
    "\n",
    "N = 100\n",
    "\n",
    "x0 = generate_random_initial_state(N, mean_a, stddev_a, mean_e, stddev_e, true);"
   ]
  },
  {
   "cell_type": "code",
   "execution_count": 21,
   "id": "21fe8819",
   "metadata": {},
   "outputs": [],
   "source": [
    "t0 = 0\n",
    "ti = 1e4  # one orbit ~ 5e4 sec\n",
    "num_steps = 10000\n",
    "\n",
    "xs = euler(f, t0, ti, x0, num_steps);\n",
    "\n",
    "#plot(xs[:,1], xs[:,2], xs[:,3])"
   ]
  },
  {
   "cell_type": "code",
   "execution_count": 22,
   "id": "5b92892a",
   "metadata": {},
   "outputs": [],
   "source": [
    "visualizeNetwork(xs,\"example.html\")"
   ]
  },
  {
   "cell_type": "code",
   "execution_count": null,
   "id": "25540fef",
   "metadata": {},
   "outputs": [],
   "source": []
  }
 ],
 "metadata": {
  "@webio": {
   "lastCommId": "a2d82c9ced6d42778f3863a6998db4e4",
   "lastKernelId": "b1930e1b-cde7-41fe-8324-e5b7553770aa"
  },
  "kernelspec": {
   "display_name": "Julia 1.8.1",
   "language": "julia",
   "name": "julia-1.8"
  },
  "language_info": {
   "file_extension": ".jl",
   "mimetype": "application/julia",
   "name": "julia",
   "version": "1.8.1"
  }
 },
 "nbformat": 4,
 "nbformat_minor": 5
}

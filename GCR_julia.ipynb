{
 "cells": [
  {
   "cell_type": "code",
   "execution_count": 37,
   "metadata": {},
   "outputs": [],
   "source": [
    "# importing some motherfucking libraries\n",
    "using LinearAlgebra\n",
    "using Printf"
   ]
  },
  {
   "cell_type": "code",
   "execution_count": 194,
   "metadata": {},
   "outputs": [
    {
     "data": {
      "text/plain": [
       "GCR (generic function with 1 method)"
      ]
     },
     "execution_count": 194,
     "metadata": {},
     "output_type": "execute_result"
    }
   ],
   "source": [
    "function GCR(A, b, tolerance, max_iter)\n",
    "    x = zeros(length(b))\n",
    "    residual = copy(b); # APPARENTLY JULIA LIKES TO BE QUIRKY SO IF B CHANGES THEN SO WILL RESIDUAL OR VICE VERSA SO USE THE COPY()\n",
    "    res_norm_init = norm(residual);\n",
    "    \n",
    "    res_norms = [res_norm_init];\n",
    "    k = 0;\n",
    "    p = Float64[];\n",
    "    Ap = Float64[];\n",
    "    while (res_norms[k+1]/res_norms[1] > tolerance) && (k <= max_iter)\n",
    "        k = k+1\n",
    "        @printf(\"\\nRes norm %lf\", res_norms[k]);\n",
    "        @printf(\"\\nScaled res norm %lf\\n\", res_norms[k]/res_norms[1]);\n",
    "        # Use the residual as the first guess for the ne search direction and computer its image\n",
    "        if k == 1\n",
    "            p = copy(residual);\n",
    "            Ap = A * p[:,k];\n",
    "        elseif k > 1\n",
    "            p = cat(p, residual, dims=(2,2))\n",
    "            Ap = cat(Ap, A * p[:,k], dims=(2,2))\n",
    "        end\n",
    "        \n",
    "        #  Make the new Ap vector orthogonal to the previous Ap vectors, and the p vectors A^TA orthogonal to the previous p vectors\n",
    "        if k > 1\n",
    "            for j in 1:k-1\n",
    "               beta    = Ap[:,k]' * Ap[:,j];\n",
    "               p[:,k]  =  p[:,k] - beta *  p[:,j];\n",
    "               Ap[:,k] = Ap[:,k] - beta * Ap[:,j];\n",
    "                \n",
    "            end\n",
    "        end\n",
    "        \n",
    "        # Make the orthogonal Ap vector of unit length, and scale the p vector so that A * p  is of unit length\n",
    "        norm_Ap = norm(Ap[:,k]);\n",
    "        Ap[:,k] = Ap[:,k]/norm_Ap;\n",
    "        p[:,k] =  p[:,k]/norm_Ap;\n",
    "        # Determine the optimal amount to change x in the p direction by projecting r onto Ap\n",
    "        alpha = residual' * Ap[:,k];\n",
    "        # Update x and r\n",
    "        x = x + alpha *  p[:,k];\n",
    "\n",
    "        # Save the norm of r\n",
    "        res_norms = cat(res_norms, norm(residual), dims=(2,2));\n",
    "    end\n",
    "\n",
    "# Did this shit converge or nah\n",
    "if res_norms[k+1]> (tolerance * res_norms[1])\n",
    "  @printf(\"\\nBoohoo, the GCR algorithm did NOT converge! Maximum number of iterations reached >:(\\n\");\n",
    "  x = [];\n",
    "else\n",
    "  @printf(\"\\nSLAY BESTIE! The GCR algorithm converged in %d iterations!\\n\", k);\n",
    "end\n",
    "\n",
    "# Scale the r_norms with respect to the initial residual norm\n",
    "res_norms = res_norms / res_norms[1];\n",
    "end"
   ]
  },
  {
   "cell_type": "code",
   "execution_count": 197,
   "metadata": {},
   "outputs": [],
   "source": [
    "# equivalent matlab test commands\n",
    "# A = [420 0 0 0 0; 0 69 0 0 0; 0 0 420 0 0; 0 0 0 69 0; 0 0 0 0 22]; b = [4; 3; 2; 1; 5]; tgcr(A, b, 0.0001, 300);\n",
    "# A = [420 2 0 0 0; 0 33 0 0 0; 0 0 62 0 0; 0 0 0 14 0; 0 0 0 0 22]; b = [4; 3; 2; 1; 5]; tgcr(A, b, 0.0001, 300);\n",
    "\n",
    "#creating test data\n",
    "N = 5;\n",
    "A = float([420 0 0 0 0; 0 69 0 0 0; 0 0 420 0 0; 0 0 0 69 0; 0 0 0 0 22]);\n",
    "b = float([4; 3; 2; 1; 5]);\n",
    "tol = 0.0001;\n",
    "iter = 300;"
   ]
  },
  {
   "cell_type": "code",
   "execution_count": 198,
   "metadata": {},
   "outputs": [
    {
     "name": "stdout",
     "output_type": "stream",
     "text": [
      "\n",
      "Res norm 7.416198\n",
      "Scaled res norm 1.000000\n",
      "alpha = 5.089420893158634\n",
      "x = [0.010747802916066236, 0.008060852187049676, 0.005373901458033118, 0.002686950729016559, 0.013434753645082793]\n",
      "residual = [-0.5140772247478189, 2.4438011990935724, -0.25703861237390946, 0.8146003996978575, 4.704435419808179]\n",
      "Res norm 5.394237\n",
      "Scaled res norm 0.727359\n",
      "alpha = 4.609492984826755\n",
      "x = [0.009483188358214276, 0.0625956796389454, 0.004741594179107138, 0.020865226546315133, 0.1167084430516297]\n",
      "residual = [0.01706088955000462, -1.3191018950872326, 0.00853044477500231, -0.43970063169574414, 2.4324142528641466]\n",
      "Res norm 2.801851\n",
      "Scaled res norm 0.377802\n",
      "alpha = 2.801851065833676\n",
      "x = [0.009523809523809523, 0.0434782608695652, 0.0047619047619047615, 0.014492753623188404, 0.22727272727272724]\n",
      "residual = [1.169203622808368e-15, 4.440892098500626e-16, 5.84601811404184e-16, 1.1102230246251565e-16, 4.440892098500626e-16]\n",
      "GCR converged in 3 iterations\n"
     ]
    },
    {
     "data": {
      "text/plain": [
       "1×4 Matrix{Float64}:\n",
       " 1.0  0.727359  0.377802  1.96124e-16"
      ]
     },
     "execution_count": 198,
     "metadata": {},
     "output_type": "execute_result"
    }
   ],
   "source": [
    "GCR(A, b, tol, iter)"
   ]
  }
 ],
 "metadata": {
  "kernelspec": {
   "display_name": "Julia 1.8.1",
   "language": "julia",
   "name": "julia-1.8"
  },
  "language_info": {
   "file_extension": ".jl",
   "mimetype": "application/julia",
   "name": "julia",
   "version": "1.8.1"
  }
 },
 "nbformat": 4,
 "nbformat_minor": 4
}

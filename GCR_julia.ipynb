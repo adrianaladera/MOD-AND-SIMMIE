{
 "cells": [
  {
   "cell_type": "markdown",
   "metadata": {},
   "source": [
    "# The GCR Algorithm\n",
    "An iterative Krylov subspace numeric meth(od) used for solving systems of linear equations.\n",
    "\n",
    "### Importing some motherfucking libraries"
   ]
  },
  {
   "cell_type": "code",
   "execution_count": 25,
   "metadata": {},
   "outputs": [],
   "source": [
    "using LinearAlgebra\n",
    "using Printf"
   ]
  },
  {
   "cell_type": "markdown",
   "metadata": {},
   "source": [
    "### Function that computes the GCR\n",
    "\n",
    "Input parameters:\n",
    "- `A`: $N \\times N$ square matrix of the system $Ax = b$\n",
    "- `b`: $N$-length column vector that is the right hand side of the linear system\n",
    "- `tolerance`: the amount of $\\Delta$ in the residual left before declaring convergence\n",
    "- `max_iter`: the total number of iterations to perform the GCR algorithm before exiting\n",
    "- `pp`: flag variable that prints the residual norm and scaled residual norm for each iteration of $k$; set to 1 to print to console and any other integer for no console output"
   ]
  },
  {
   "cell_type": "code",
   "execution_count": 26,
   "metadata": {},
   "outputs": [
    {
     "data": {
      "text/plain": [
       "GCR (generic function with 2 methods)"
      ]
     },
     "execution_count": 26,
     "metadata": {},
     "output_type": "execute_result"
    }
   ],
   "source": [
    "function GCR(A, b, tolerance, max_iter, pp)\n",
    "    x = zeros(length(b))\n",
    "    residual = copy(b);\n",
    "    res_norm_init = norm(residual);\n",
    "    \n",
    "    res_norms = [res_norm_init];\n",
    "    k = 0;\n",
    "    p = Float64[];\n",
    "    Ap = Float64[];\n",
    "    while (res_norms[k+1]/res_norms[1] > tolerance) && (k <= max_iter)\n",
    "        k = k+1\n",
    "        if pp == 1\n",
    "            @printf(\"\\n----------------- ITERATION %d -----------------\\n\", k)\n",
    "            @printf(\"\\nResidual norm: %lf\", res_norms[k]);\n",
    "            @printf(\"\\nScaled res norm %lf\\n\", res_norms[k]/res_norms[1]);\n",
    "        end\n",
    "            \n",
    "        # Use the residual as the first guess for the ne search direction and computer its image\n",
    "        if k == 1\n",
    "            p = copy(residual);\n",
    "            Ap = A * p[:,k];\n",
    "            \n",
    "        elseif k > 1\n",
    "            p = cat(p, residual, dims=(2,2))\n",
    "            Ap = cat(Ap, A * p[:,k], dims=(2,2))\n",
    "        end\n",
    "        \n",
    "        # Make the new Ap vector orthogonal to the previous Ap vectors, and the p vectors A^TA orthogonal to the previous p vectors\n",
    "        # noticed that if you know A is symmetric you can save computation by limiting the for loop to just j=k-1 \n",
    "        \n",
    "        if k > 1\n",
    "            for j in 1:k-1\n",
    "               beta    = Ap[:,k]' * Ap[:,j];\n",
    "               p[:,k]  =  p[:,k] - beta *  p[:,j];\n",
    "               Ap[:,k] = Ap[:,k] - beta * Ap[:,j];\n",
    "                \n",
    "            end\n",
    "        end\n",
    "        # Make the orthogonal Ap vector of unit length, and scale the p vector so that A * p  is of unit length\n",
    "        norm_Ap = norm(Ap[:,k]);\n",
    "        Ap[:,k] = Ap[:,k]/norm_Ap;\n",
    "        p[:,k] =  p[:,k]/norm_Ap;\n",
    "        # Determine the optimal amount to change x in the p direction by projecting r onto Ap\n",
    "        alpha = residual' * Ap[:,k];\n",
    "        # Update x and r\n",
    "        x = x + alpha *  p[:,k];\n",
    "        residual = residual - alpha * Ap[:,k];\n",
    "\n",
    "        # Save the norm of r\n",
    "        res_norms = cat(res_norms, norm(residual), dims=(2,2));\n",
    "    end\n",
    "\n",
    "    # Tell bitches whether or not this shit converged\n",
    "    if res_norms[k+1]> (tolerance * res_norms[1])\n",
    "        print(\"\\n****************************************************************************************\\n\")\n",
    "        @printf(\"* Boohoo, the GCR algorithm did NOT converge! Maximum number of iterations reached >:( *\");\n",
    "        print(\"\\n****************************************************************************************\\n\")\n",
    "        x = [];\n",
    "    else\n",
    "        print(\"\\n******************************************************************\\n\")\n",
    "        @printf(\"*   SLAY BESTIE! The GCR algorithm converged in %d iterations!   *\", k);\n",
    "        print(\"\\n******************************************************************\\n\")\n",
    "    end\n",
    "\n",
    "    # % Scale the r_norms with respect to the initial residual norm\n",
    "    res_norms = res_norms / res_norms[1];\n",
    "end"
   ]
  },
  {
   "cell_type": "markdown",
   "metadata": {},
   "source": [
    "# Creating test data and calling function\n",
    "Originally taken from `MATLAB`, given are some equivalent test commands to compare the results between `MATTY` and `Julia`. Enter the commented command into the command line of `MATTY BOI` in the same directory as your `tgcr.m` file to compare results."
   ]
  },
  {
   "cell_type": "code",
   "execution_count": 27,
   "metadata": {},
   "outputs": [],
   "source": [
    "# equivalent matlab test commands\n",
    "# A = [420 0 0 0 0; 0 69 0 0 0; 0 0 420 0 0; 0 0 0 69 0; 0 0 0 0 22]; b = [4; 3; 2; 1; 5]; tgcr(A, b, 0.0001, 300);\n",
    "# A = [420 2 0 0 0; 0 33 0 0 0; 0 0 62 0 0; 0 0 0 14 0; 0 0 0 0 22]; b = [4; 3; 2; 1; 5]; tgcr(A, b, 0.0001, 300);\n",
    "\n",
    "#creating test data\n",
    "N = 5;\n",
    "A = float([420 0 0 0 0; 0 69 0 0 0; 0 0 420 0 0; 0 0 0 69 0; 0 0 0 0 22]);\n",
    "b = float([4; 3; 2; 1; 5]);\n",
    "tol = 0.0001;\n",
    "iter = 300;\n",
    "pp = 1; #set to 1 for printing to console, else any int for no printing"
   ]
  },
  {
   "cell_type": "code",
   "execution_count": 28,
   "metadata": {},
   "outputs": [
    {
     "name": "stdout",
     "output_type": "stream",
     "text": [
      "\n",
      "----------------- ITERATION 1 -----------------\n",
      "\n",
      "Residual norm: 7.416198\n",
      "Scaled res norm 1.000000\n",
      "\n",
      "----------------- ITERATION 2 -----------------\n",
      "\n",
      "Residual norm: 5.394237\n",
      "Scaled res norm 0.727359\n",
      "\n",
      "----------------- ITERATION 3 -----------------\n",
      "\n",
      "Residual norm: 2.801851\n",
      "Scaled res norm 0.377802\n",
      "\n",
      "******************************************************************\n",
      "*   SLAY BESTIE! The GCR algorithm converged in 3 iterations!   *\n",
      "******************************************************************\n"
     ]
    },
    {
     "data": {
      "text/plain": [
       "1×4 Matrix{Float64}:\n",
       " 1.0  0.727359  0.377802  1.96124e-16"
      ]
     },
     "execution_count": 28,
     "metadata": {},
     "output_type": "execute_result"
    }
   ],
   "source": [
    "GCR(A, b, tol, iter, pp)"
   ]
  },
  {
   "cell_type": "code",
   "execution_count": null,
   "metadata": {},
   "outputs": [],
   "source": []
  },
  {
   "cell_type": "code",
   "execution_count": null,
   "metadata": {},
   "outputs": [],
   "source": []
  }
 ],
 "metadata": {
  "kernelspec": {
   "display_name": "Julia 1.8.1",
   "language": "julia",
   "name": "julia-1.8"
  },
  "language_info": {
   "file_extension": ".jl",
   "mimetype": "application/julia",
   "name": "julia",
   "version": "1.8.1"
  }
 },
 "nbformat": 4,
 "nbformat_minor": 4
}
